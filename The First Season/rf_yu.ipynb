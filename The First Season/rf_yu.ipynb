{
 "cells": [
  {
   "cell_type": "code",
   "execution_count": 1,
   "metadata": {},
   "outputs": [],
   "source": [
    "import gc\n",
    "import pandas as pd\n",
    "import numpy as np\n",
    "import os\n",
    "import lightgbm as lgb\n",
    "from sklearn import metrics\n",
    "from sklearn.ensemble import RandomForestClassifier\n",
    "import time"
   ]
  },
  {
   "cell_type": "code",
   "execution_count": 2,
   "metadata": {},
   "outputs": [],
   "source": [
    "DATA_PATH = \"../\"\n",
    "csv_path = os.path.join(DATA_PATH, \"atec_anti_fraud_train.csv\")\n",
    "data = pd.read_csv(csv_path)"
   ]
  },
  {
   "cell_type": "code",
   "execution_count": 3,
   "metadata": {},
   "outputs": [],
   "source": [
    "data.loc[data['label'] == -1, 'label'] = 1"
   ]
  },
  {
   "cell_type": "code",
   "execution_count": 4,
   "metadata": {},
   "outputs": [],
   "source": [
    "data.loc[data['label'] == 1, 'label'] = 2\n",
    "data.loc[data['label'] == 0, 'label'] = 1\n",
    "data.loc[data['label'] == 2, 'label'] = 0"
   ]
  },
  {
   "cell_type": "code",
   "execution_count": 5,
   "metadata": {},
   "outputs": [],
   "source": [
    "csv_path = os.path.join(DATA_PATH, \"atec_anti_fraud_test_b.csv\")\n",
    "data_test = pd.read_csv(csv_path)"
   ]
  },
  {
   "cell_type": "code",
   "execution_count": 6,
   "metadata": {},
   "outputs": [],
   "source": [
    "data.fillna(0, inplace=True)\n",
    "data_test.fillna(0, inplace=True)"
   ]
  },
  {
   "cell_type": "code",
   "execution_count": 7,
   "metadata": {},
   "outputs": [],
   "source": [
    "data_train = data[data['date'] <= 20171021]\n",
    "data_val = data[data['date'] > 20171021]"
   ]
  },
  {
   "cell_type": "code",
   "execution_count": 8,
   "metadata": {},
   "outputs": [
    {
     "data": {
      "text/plain": [
       "28"
      ]
     },
     "execution_count": 8,
     "metadata": {},
     "output_type": "execute_result"
    }
   ],
   "source": [
    "del data\n",
    "gc.collect()"
   ]
  },
  {
   "cell_type": "code",
   "execution_count": 9,
   "metadata": {},
   "outputs": [],
   "source": [
    "X_train = data_train.loc[:,'f1':].as_matrix()\n",
    "y_train = data_train.loc[:,'label'].as_matrix()\n",
    "\n",
    "X_val = data_val.loc[:,'f1':].as_matrix()\n",
    "y_val = data_val.loc[:,'label'].as_matrix()\n",
    "\n",
    "X_test = data_test.loc[:,'f1':].as_matrix()"
   ]
  },
  {
   "cell_type": "code",
   "execution_count": 10,
   "metadata": {},
   "outputs": [
    {
     "data": {
      "text/plain": [
       "58"
      ]
     },
     "execution_count": 10,
     "metadata": {},
     "output_type": "execute_result"
    }
   ],
   "source": [
    "del data_train, data_val\n",
    "gc.collect()"
   ]
  },
  {
   "cell_type": "code",
   "execution_count": 11,
   "metadata": {},
   "outputs": [],
   "source": [
    "res = data_test[['id']]"
   ]
  },
  {
   "cell_type": "code",
   "execution_count": 25,
   "metadata": {},
   "outputs": [],
   "source": [
    "def eval_func(y_pred, y_true):\n",
    "    fpr, tpr, thresholds = metrics.roc_curve(y_pred, y_true, pos_label=1)\n",
    "    score = 0.4 * tpr[np.argwhere(fpr < 0.001)[-1]] + 0.3 * tpr[np.argwhere(\n",
    "        fpr < 0.005)[-1]] + 0.3 * tpr[np.argwhere(fpr < 0.01)[-1]]\n",
    "    return  score[0]"
   ]
  },
  {
   "cell_type": "code",
   "execution_count": 44,
   "metadata": {},
   "outputs": [],
   "source": [
    "def rf_model(train_x, train_y, val_x, val_y, res, test):\n",
    "#     for i in range(13, 16, 2):\n",
    "    for i in [15]:\n",
    "        start_time = time.time()\n",
    "        clf = RandomForestClassifier(\n",
    "            n_estimators=25, \n",
    "            max_depth=i, \n",
    "            criterion='entropy', \n",
    "            max_features=i,\n",
    "            min_samples_split=500,\n",
    "            min_samples_leaf=1,\n",
    "#             max_leaf_nodes=i,\n",
    "            random_state=0, \n",
    "            n_jobs=4, \n",
    "            class_weight={0: 1, 1: 1})\n",
    "        clf.fit(train_x, train_y)\n",
    "        train_proba = clf.predict_proba(train_x)[:, 0]\n",
    "        val_proba = clf.predict_proba(val_x)[:, 0]\n",
    "        train_score = eval_func(1-train_y, train_proba)\n",
    "        val_score = eval_func(1-val_y, val_proba)\n",
    "        \n",
    "        cost_time = time.time() - start_time\n",
    "        \n",
    "        print('n_estimators = ', i, ' train score : ', train_score, ' validation score : ', val_score, 'diff : ', train_score - val_score, 'cost time : ', cost_time)\n",
    "    \n",
    "    res['score'] = clf.predict_proba(test)[:,0]\n",
    "#     res['score'] = res['score'].apply(lambda x: float('%.6f' % x))\n",
    "    res.to_csv('submission.csv', index=False)\n",
    "    return clf"
   ]
  },
  {
   "cell_type": "code",
   "execution_count": 45,
   "metadata": {},
   "outputs": [
    {
     "name": "stdout",
     "output_type": "stream",
     "text": [
      "n_estimators =  15  train score :  0.4397484575225439  validation score :  0.3923900118906064 diff :  0.047358445631937474 cost time :  89.938236951828\n"
     ]
    },
    {
     "name": "stderr",
     "output_type": "stream",
     "text": [
      "C:\\software\\anaconda\\lib\\site-packages\\ipykernel_launcher.py:26: SettingWithCopyWarning: \n",
      "A value is trying to be set on a copy of a slice from a DataFrame.\n",
      "Try using .loc[row_indexer,col_indexer] = value instead\n",
      "\n",
      "See the caveats in the documentation: http://pandas.pydata.org/pandas-docs/stable/indexing.html#indexing-view-versus-copy\n"
     ]
    }
   ],
   "source": [
    "clf = rf_model(X_train, y_train, X_val, y_val, res, X_test)"
   ]
  },
  {
   "cell_type": "code",
   "execution_count": null,
   "metadata": {},
   "outputs": [],
   "source": []
  }
 ],
 "metadata": {
  "kernelspec": {
   "display_name": "Python 3",
   "language": "python",
   "name": "python3"
  }
 },
 "nbformat": 4,
 "nbformat_minor": 2
}
