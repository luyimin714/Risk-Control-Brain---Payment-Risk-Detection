{
 "cells": [
  {
   "cell_type": "code",
   "execution_count": 1,
   "metadata": {},
   "outputs": [],
   "source": [
    "import gc\n",
    "import pandas as pd\n",
    "import numpy as np\n",
    "import os\n",
    "# import xgboost as xgb\n",
    "import lightgbm as lgb\n",
    "from sklearn import metrics\n",
    "import matplotlib.pyplot as plt\n",
    "from sklearn.ensemble import RandomForestClassifier\n",
    "from sklearn.model_selection import train_test_split\n",
    "from sklearn.metrics import precision_score, recall_score, f1_score  \n",
    "from sklearn.metrics import confusion_matrix  \n",
    "import seaborn as sns\n",
    "from sklearn.ensemble import RandomForestClassifier, VotingClassifier, BaggingClassifier\n",
    "from sklearn.model_selection import ParameterGrid"
   ]
  },
  {
   "cell_type": "code",
   "execution_count": 2,
   "metadata": {},
   "outputs": [],
   "source": [
    "DATA_PATH = \"../\"\n",
    "csv_path = os.path.join(DATA_PATH, \"atec_anti_fraud_train.csv\")\n",
    "data = pd.read_csv(csv_path)"
   ]
  },
  {
   "cell_type": "code",
   "execution_count": 3,
   "metadata": {},
   "outputs": [],
   "source": [
    "data.loc[data['label'] == -1, 'label'] = 1\n",
    "# data_to_label = data[data['label'] == -1]\n",
    "# data = data[data.label.isin([0, 1])]"
   ]
  },
  {
   "cell_type": "code",
   "execution_count": 4,
   "metadata": {},
   "outputs": [],
   "source": [
    "data.loc[data['label'] == 1, 'label'] = 2\n",
    "data.loc[data['label'] == 0, 'label'] = 1\n",
    "data.loc[data['label'] == 2, 'label'] = 0"
   ]
  },
  {
   "cell_type": "code",
   "execution_count": 5,
   "metadata": {},
   "outputs": [],
   "source": [
    "feature_nan = data.isnull().sum()\n",
    "drop_list = feature_nan[feature_nan / data.shape[0] > 0.5].reset_index()['index'].tolist()"
   ]
  },
  {
   "cell_type": "code",
   "execution_count": 6,
   "metadata": {},
   "outputs": [],
   "source": [
    "data = data.drop(drop_list, axis=1)"
   ]
  },
  {
   "cell_type": "code",
   "execution_count": 7,
   "metadata": {},
   "outputs": [],
   "source": [
    "csv_path = os.path.join(DATA_PATH, \"atec_anti_fraud_test_b.csv\")\n",
    "data_test = pd.read_csv(csv_path)"
   ]
  },
  {
   "cell_type": "code",
   "execution_count": 8,
   "metadata": {},
   "outputs": [],
   "source": [
    "data_test = data_test.drop(drop_list, axis=1)"
   ]
  },
  {
   "cell_type": "code",
   "execution_count": 9,
   "metadata": {},
   "outputs": [],
   "source": [
    "# data.nunique()"
   ]
  },
  {
   "cell_type": "code",
   "execution_count": 10,
   "metadata": {},
   "outputs": [],
   "source": [
    "# data.fillna(0, inplace=True)\n",
    "# data_test.fillna(0, inplace=True)"
   ]
  },
  {
   "cell_type": "code",
   "execution_count": 11,
   "metadata": {
    "scrolled": true
   },
   "outputs": [
    {
     "name": "stdout",
     "output_type": "stream",
     "text": [
      "(994731, 288)\n",
      "(749690, 288)\n",
      "(245041, 288)\n"
     ]
    }
   ],
   "source": [
    "data_train = data[data['date'] <= 20171021]\n",
    "data_val = data[data['date'] > 20171021]\n",
    "\n",
    "print(data.shape)\n",
    "print(data_train.shape)\n",
    "print(data_val.shape)"
   ]
  },
  {
   "cell_type": "code",
   "execution_count": 12,
   "metadata": {},
   "outputs": [],
   "source": [
    "X_train = data_train.loc[:,'f1':].as_matrix()\n",
    "y_train = data_train.loc[:,'label'].as_matrix()\n",
    "\n",
    "X_val = data_val.loc[:,'f1':].as_matrix()\n",
    "y_val = data_val.loc[:,'label'].as_matrix()\n",
    "\n",
    "X_test = data_test.loc[:,'f1':].as_matrix()"
   ]
  },
  {
   "cell_type": "code",
   "execution_count": 13,
   "metadata": {},
   "outputs": [
    {
     "name": "stdout",
     "output_type": "stream",
     "text": [
      "(749690, 285)\n",
      "(749690,)\n",
      "(245041, 285)\n",
      "(245041,)\n",
      "(500538, 285)\n"
     ]
    }
   ],
   "source": [
    "print(X_train.shape)\n",
    "print(y_train.shape)\n",
    "print(X_val.shape)\n",
    "print(y_val.shape)\n",
    "print(X_test.shape)"
   ]
  },
  {
   "cell_type": "code",
   "execution_count": 19,
   "metadata": {},
   "outputs": [],
   "source": [
    "lgb_train = lgb.Dataset(X_train, y_train)\n",
    "lgb_eval = lgb.Dataset(X_val, y_val, reference=lgb_train)"
   ]
  },
  {
   "cell_type": "code",
   "execution_count": 20,
   "metadata": {},
   "outputs": [],
   "source": [
    "# def eval_func(y_pred, y_true):\n",
    "#     y_true = y_true.get_label()\n",
    "#     fpr, tpr, thresholds = metrics.roc_curve(1-y_true, 1-y_pred, pos_label=1)\n",
    "#     score = 0.4 * tpr[np.argwhere(fpr < 0.001)[-1]] + 0.3 * tpr[np.argwhere(\n",
    "#         fpr < 0.005)[-1]] + 0.3 * tpr[np.argwhere(fpr < 0.01)[-1]]\n",
    "#     return 'score', score, True\n",
    "\n",
    "def eval_func(y_pred, y_true):\n",
    "    fpr, tpr, thresholds = metrics.roc_curve(y_pred, y_true, pos_label=1)\n",
    "    score = 0.4 * tpr[np.argwhere(fpr < 0.001)[-1]] + 0.3 * tpr[np.argwhere(\n",
    "        fpr < 0.005)[-1]] + 0.3 * tpr[np.argwhere(fpr < 0.01)[-1]]\n",
    "    return 'score', score, True"
   ]
  },
  {
   "cell_type": "code",
   "execution_count": 21,
   "metadata": {},
   "outputs": [],
   "source": [
    "params = {\n",
    "    'task': 'train',\n",
    "    'boosting_type': 'rf',\n",
    "    'objective': 'binary',\n",
    "    'metric': {'auc'},\n",
    "    'num_leaves': 255,\n",
    "    'learning_rate': 0.05,\n",
    "    'feature_fraction': 0.4,\n",
    "    'bagging_fraction': 0.5,\n",
    "    'max_bin':2000,\n",
    "    'bagging_freq': 5,\n",
    "    'random_state': 20,\n",
    "    'min_data_in_leaf' : 10,\n",
    "    'n_jobs': 8,\n",
    "    'verbose': 0\n",
    "}"
   ]
  },
  {
   "cell_type": "code",
   "execution_count": 22,
   "metadata": {},
   "outputs": [
    {
     "name": "stdout",
     "output_type": "stream",
     "text": [
      "[1]\tvalid_0's auc: 0.942743\n",
      "Training until validation scores don't improve for 20 rounds.\n",
      "[2]\tvalid_0's auc: 0.960102\n",
      "[3]\tvalid_0's auc: 0.962861\n",
      "[4]\tvalid_0's auc: 0.963992\n",
      "[5]\tvalid_0's auc: 0.96432\n",
      "[6]\tvalid_0's auc: 0.965931\n",
      "[7]\tvalid_0's auc: 0.966604\n",
      "[8]\tvalid_0's auc: 0.966955\n",
      "[9]\tvalid_0's auc: 0.966466\n",
      "[10]\tvalid_0's auc: 0.966919\n",
      "[11]\tvalid_0's auc: 0.966493\n",
      "[12]\tvalid_0's auc: 0.966438\n",
      "[13]\tvalid_0's auc: 0.966887\n",
      "[14]\tvalid_0's auc: 0.967236\n",
      "[15]\tvalid_0's auc: 0.96704\n",
      "[16]\tvalid_0's auc: 0.966849\n",
      "[17]\tvalid_0's auc: 0.96676\n",
      "[18]\tvalid_0's auc: 0.96675\n",
      "[19]\tvalid_0's auc: 0.967229\n",
      "[20]\tvalid_0's auc: 0.967293\n",
      "[21]\tvalid_0's auc: 0.967445\n",
      "[22]\tvalid_0's auc: 0.967693\n",
      "[23]\tvalid_0's auc: 0.967821\n",
      "[24]\tvalid_0's auc: 0.967876\n",
      "[25]\tvalid_0's auc: 0.967821\n",
      "[26]\tvalid_0's auc: 0.967941\n",
      "[27]\tvalid_0's auc: 0.967978\n",
      "[28]\tvalid_0's auc: 0.967859\n",
      "[29]\tvalid_0's auc: 0.967729\n",
      "[30]\tvalid_0's auc: 0.967666\n",
      "[31]\tvalid_0's auc: 0.967775\n",
      "[32]\tvalid_0's auc: 0.967848\n",
      "[33]\tvalid_0's auc: 0.967944\n",
      "[34]\tvalid_0's auc: 0.968003\n",
      "[35]\tvalid_0's auc: 0.967861\n",
      "[36]\tvalid_0's auc: 0.967953\n",
      "[37]\tvalid_0's auc: 0.967976\n",
      "[38]\tvalid_0's auc: 0.967916\n",
      "[39]\tvalid_0's auc: 0.967826\n",
      "[40]\tvalid_0's auc: 0.967716\n",
      "[41]\tvalid_0's auc: 0.967747\n",
      "[42]\tvalid_0's auc: 0.967792\n",
      "[43]\tvalid_0's auc: 0.96785\n",
      "[44]\tvalid_0's auc: 0.967925\n",
      "[45]\tvalid_0's auc: 0.967946\n",
      "[46]\tvalid_0's auc: 0.968046\n",
      "[47]\tvalid_0's auc: 0.968105\n",
      "[48]\tvalid_0's auc: 0.968107\n",
      "[49]\tvalid_0's auc: 0.968126\n",
      "[50]\tvalid_0's auc: 0.968124\n",
      "[51]\tvalid_0's auc: 0.968092\n",
      "[52]\tvalid_0's auc: 0.968124\n",
      "[53]\tvalid_0's auc: 0.968153\n",
      "[54]\tvalid_0's auc: 0.96816\n",
      "[55]\tvalid_0's auc: 0.96813\n",
      "[56]\tvalid_0's auc: 0.96799\n",
      "[57]\tvalid_0's auc: 0.968046\n",
      "[58]\tvalid_0's auc: 0.968029\n",
      "[59]\tvalid_0's auc: 0.968021\n",
      "[60]\tvalid_0's auc: 0.968073\n",
      "[61]\tvalid_0's auc: 0.968063\n",
      "[62]\tvalid_0's auc: 0.968121\n",
      "[63]\tvalid_0's auc: 0.96835\n",
      "[64]\tvalid_0's auc: 0.968308\n",
      "[65]\tvalid_0's auc: 0.968353\n",
      "[66]\tvalid_0's auc: 0.96839\n",
      "[67]\tvalid_0's auc: 0.968403\n",
      "[68]\tvalid_0's auc: 0.968446\n",
      "[69]\tvalid_0's auc: 0.968355\n",
      "[70]\tvalid_0's auc: 0.968347\n",
      "[71]\tvalid_0's auc: 0.968381\n",
      "[72]\tvalid_0's auc: 0.968302\n",
      "[73]\tvalid_0's auc: 0.968314\n",
      "[74]\tvalid_0's auc: 0.968377\n",
      "[75]\tvalid_0's auc: 0.968366\n",
      "[76]\tvalid_0's auc: 0.968473\n",
      "[77]\tvalid_0's auc: 0.968492\n",
      "[78]\tvalid_0's auc: 0.96852\n",
      "[79]\tvalid_0's auc: 0.968558\n",
      "[80]\tvalid_0's auc: 0.96854\n",
      "[81]\tvalid_0's auc: 0.968569\n",
      "[82]\tvalid_0's auc: 0.968588\n",
      "[83]\tvalid_0's auc: 0.968712\n",
      "[84]\tvalid_0's auc: 0.968693\n",
      "[85]\tvalid_0's auc: 0.968752\n",
      "[86]\tvalid_0's auc: 0.968733\n",
      "[87]\tvalid_0's auc: 0.968756\n",
      "[88]\tvalid_0's auc: 0.968759\n",
      "[89]\tvalid_0's auc: 0.968779\n",
      "[90]\tvalid_0's auc: 0.968915\n",
      "[91]\tvalid_0's auc: 0.968899\n",
      "[92]\tvalid_0's auc: 0.968873\n",
      "[93]\tvalid_0's auc: 0.968924\n",
      "[94]\tvalid_0's auc: 0.96898\n",
      "[95]\tvalid_0's auc: 0.968972\n",
      "[96]\tvalid_0's auc: 0.968963\n",
      "[97]\tvalid_0's auc: 0.968905\n",
      "[98]\tvalid_0's auc: 0.968951\n",
      "[99]\tvalid_0's auc: 0.968967\n",
      "[100]\tvalid_0's auc: 0.969026\n",
      "[101]\tvalid_0's auc: 0.969732\n",
      "[102]\tvalid_0's auc: 0.969746\n",
      "[103]\tvalid_0's auc: 0.969737\n",
      "[104]\tvalid_0's auc: 0.969701\n",
      "[105]\tvalid_0's auc: 0.969727\n",
      "[106]\tvalid_0's auc: 0.969723\n",
      "[107]\tvalid_0's auc: 0.96971\n",
      "[108]\tvalid_0's auc: 0.969733\n",
      "[109]\tvalid_0's auc: 0.969743\n",
      "[110]\tvalid_0's auc: 0.969737\n",
      "[111]\tvalid_0's auc: 0.969722\n",
      "[112]\tvalid_0's auc: 0.969768\n",
      "[113]\tvalid_0's auc: 0.96976\n",
      "[114]\tvalid_0's auc: 0.969868\n",
      "[115]\tvalid_0's auc: 0.969855\n",
      "[116]\tvalid_0's auc: 0.969825\n",
      "[117]\tvalid_0's auc: 0.969855\n",
      "[118]\tvalid_0's auc: 0.969862\n",
      "[119]\tvalid_0's auc: 0.969872\n",
      "[120]\tvalid_0's auc: 0.969859\n",
      "[121]\tvalid_0's auc: 0.969824\n",
      "[122]\tvalid_0's auc: 0.969794\n",
      "[123]\tvalid_0's auc: 0.969821\n",
      "[124]\tvalid_0's auc: 0.969772\n",
      "[125]\tvalid_0's auc: 0.969765\n",
      "[126]\tvalid_0's auc: 0.969776\n",
      "[127]\tvalid_0's auc: 0.969794\n",
      "[128]\tvalid_0's auc: 0.969807\n",
      "[129]\tvalid_0's auc: 0.969797\n",
      "[130]\tvalid_0's auc: 0.97028\n",
      "[131]\tvalid_0's auc: 0.97027\n",
      "[132]\tvalid_0's auc: 0.97022\n",
      "[133]\tvalid_0's auc: 0.970242\n",
      "[134]\tvalid_0's auc: 0.970236\n",
      "[135]\tvalid_0's auc: 0.970307\n",
      "[136]\tvalid_0's auc: 0.970293\n",
      "[137]\tvalid_0's auc: 0.970298\n",
      "[138]\tvalid_0's auc: 0.9703\n",
      "[139]\tvalid_0's auc: 0.970239\n",
      "[140]\tvalid_0's auc: 0.970228\n",
      "[141]\tvalid_0's auc: 0.970216\n",
      "[142]\tvalid_0's auc: 0.970203\n",
      "[143]\tvalid_0's auc: 0.970209\n",
      "[144]\tvalid_0's auc: 0.970231\n",
      "[145]\tvalid_0's auc: 0.970184\n",
      "[146]\tvalid_0's auc: 0.970197\n",
      "[147]\tvalid_0's auc: 0.970208\n",
      "[148]\tvalid_0's auc: 0.97019\n",
      "[149]\tvalid_0's auc: 0.970219\n",
      "[150]\tvalid_0's auc: 0.970186\n",
      "[151]\tvalid_0's auc: 0.970166\n",
      "[152]\tvalid_0's auc: 0.970159\n",
      "[153]\tvalid_0's auc: 0.970198\n",
      "[154]\tvalid_0's auc: 0.970191\n",
      "[155]\tvalid_0's auc: 0.970179\n",
      "Early stopping, best iteration is:\n",
      "[135]\tvalid_0's auc: 0.970307\n"
     ]
    }
   ],
   "source": [
    "model = lgb.train(\n",
    "    params,\n",
    "    lgb_train,\n",
    "    num_boost_round=200,\n",
    "    valid_sets=[lgb_eval],\n",
    "#     categorical_feature=[1,2,3,4,6,7,8,9,10,11,12,13,14,15,16,17,18,19],\n",
    "#                 categorical_feature=[5],\n",
    "#                 feval=eval_func,\n",
    "    verbose_eval=True,\n",
    "    early_stopping_rounds=20)"
   ]
  },
  {
   "cell_type": "code",
   "execution_count": 23,
   "metadata": {},
   "outputs": [
    {
     "name": "stdout",
     "output_type": "stream",
     "text": [
      "{'task': 'train', 'boosting_type': 'rf', 'objective': 'binary', 'metric': {'auc'}, 'num_leaves': 255, 'learning_rate': 0.05, 'feature_fraction': 0.4, 'bagging_fraction': 0.5, 'max_bin': 2000, 'bagging_freq': 5, 'random_state': 20, 'min_data_in_leaf': 10, 'n_jobs': 8, 'verbose': 0}\n",
      "('score', array([0.54831514]), True)\n",
      "('score', array([0.40378121]), True)\n"
     ]
    }
   ],
   "source": [
    "print(params)\n",
    "print(eval_func(1-y_train, 1-model.predict(X_train, num_iteration=model.best_iteration)))\n",
    "print(eval_func(1-y_val, 1-model.predict(X_val, num_iteration=model.best_iteration)))"
   ]
  },
  {
   "cell_type": "code",
   "execution_count": 54,
   "metadata": {},
   "outputs": [
    {
     "name": "stdout",
     "output_type": "stream",
     "text": [
      "{'task': 'train', 'boosting_type': 'rf', 'objective': 'binary', 'metric': {'auc'}, 'num_leaves': 255, 'learning_rate': 0.05, 'feature_fraction': 0.4, 'bagging_fraction': 0.5, 'max_bin': 2000, 'bagging_freq': 5, 'random_state': 20, 'n_jobs': 8, 'verbose': 0}\n",
      "('score', array([0.53188578]), True)\n",
      "('score', array([0.40085612]), True)\n"
     ]
    }
   ],
   "source": [
    "print(params)\n",
    "print(eval_func(1-y_train, 1-model.predict(X_train, num_iteration=model.best_iteration)))\n",
    "print(eval_func(1-y_val, 1-model.predict(X_val, num_iteration=model.best_iteration)))"
   ]
  },
  {
   "cell_type": "code",
   "execution_count": 24,
   "metadata": {},
   "outputs": [],
   "source": [
    "y_pred = 1 - model.predict(X_test)\n",
    "result = pd.DataFrame({'id':data_test['id'].as_matrix(), 'score':y_pred})\n",
    "result.to_csv(\"submission.csv\", index=False)"
   ]
  }
 ],
 "metadata": {
  "kernelspec": {
   "display_name": "Python 3",
   "language": "python",
   "name": "python3"
  },
  "language_info": {
   "codemirror_mode": {
    "name": "ipython",
    "version": 3
   },
   "file_extension": ".py",
   "mimetype": "text/x-python",
   "name": "python",
   "nbconvert_exporter": "python",
   "pygments_lexer": "ipython3",
   "version": "3.6.4"
  }
 },
 "nbformat": 4,
 "nbformat_minor": 2
}
