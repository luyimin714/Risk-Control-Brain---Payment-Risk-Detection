{
 "cells": [
  {
   "cell_type": "code",
   "execution_count": 26,
   "metadata": {},
   "outputs": [],
   "source": [
    "import numpy as np\n",
    "import lightgbm as lgb\n",
    "from sklearn.datasets import load_breast_cancer\n",
    "from sklearn.model_selection import train_test_split\n",
    "from sklearn.metrics import accuracy_score\n",
    "from sklearn.linear_model import LogisticRegression"
   ]
  },
  {
   "cell_type": "code",
   "execution_count": 3,
   "metadata": {},
   "outputs": [
    {
     "name": "stdout",
     "output_type": "stream",
     "text": [
      "(426, 30)\n",
      "(143, 30)\n"
     ]
    }
   ],
   "source": [
    "cancer = load_breast_cancer()\n",
    "X = cancer.data\n",
    "y = cancer.target\n",
    "X_train, X_test, y_train, y_test = train_test_split(X, y, random_state=0)\n",
    "print(X_train.shape)\n",
    "print(X_test.shape)"
   ]
  },
  {
   "cell_type": "code",
   "execution_count": 62,
   "metadata": {},
   "outputs": [
    {
     "name": "stdout",
     "output_type": "stream",
     "text": [
      "[1]\tvalid_0's l2: 0.231116\tvalid_0's auc: 0.977883\n",
      "Training until validation scores don't improve for 5 rounds.\n",
      "[2]\tvalid_0's l2: 0.214317\tvalid_0's auc: 0.978826\n",
      "[3]\tvalid_0's l2: 0.199361\tvalid_0's auc: 0.980503\n",
      "[4]\tvalid_0's l2: 0.185777\tvalid_0's auc: 0.982075\n",
      "[5]\tvalid_0's l2: 0.172996\tvalid_0's auc: 0.985744\n",
      "[6]\tvalid_0's l2: 0.160727\tvalid_0's auc: 0.986897\n",
      "[7]\tvalid_0's l2: 0.149767\tvalid_0's auc: 0.990461\n",
      "[8]\tvalid_0's l2: 0.139723\tvalid_0's auc: 0.992767\n",
      "[9]\tvalid_0's l2: 0.1303\tvalid_0's auc: 0.993606\n",
      "[10]\tvalid_0's l2: 0.122056\tvalid_0's auc: 0.992767\n",
      "[11]\tvalid_0's l2: 0.114424\tvalid_0's auc: 0.992558\n",
      "[12]\tvalid_0's l2: 0.1075\tvalid_0's auc: 0.992558\n",
      "[13]\tvalid_0's l2: 0.10118\tvalid_0's auc: 0.992977\n",
      "[14]\tvalid_0's l2: 0.0955334\tvalid_0's auc: 0.992558\n",
      "Early stopping, best iteration is:\n",
      "[9]\tvalid_0's l2: 0.1303\tvalid_0's auc: 0.993606\n"
     ]
    }
   ],
   "source": [
    "lgb_train = lgb.Dataset(X_train, y_train)\n",
    "lgb_eval = lgb.Dataset(X_test, y_test, reference=lgb_train)\n",
    "\n",
    "params = {\n",
    "    'task': 'train',\n",
    "    'boosting_type': 'gbdt',\n",
    "    'objective': 'binary',\n",
    "    'metric': {'l2', 'auc'},\n",
    "    'num_leaves': 10,\n",
    "    'learning_rate': 0.05,\n",
    "    'feature_fraction': 0.9,\n",
    "    'bagging_fraction': 0.8,\n",
    "    'bagging_freq': 5,\n",
    "    'verbose': 0\n",
    "}\n",
    "\n",
    "gbm = lgb.train(params,\n",
    "                lgb_train,\n",
    "                num_boost_round=20,\n",
    "                valid_sets=lgb_eval,\n",
    "                early_stopping_rounds=5)\n",
    "\n",
    "y_pred = gbm.predict(X_test, num_iteration=gbm.best_iteration)"
   ]
  },
  {
   "cell_type": "code",
   "execution_count": 63,
   "metadata": {},
   "outputs": [
    {
     "name": "stdout",
     "output_type": "stream",
     "text": [
      "[0 1 1 1 1 1 1 1 1 1 1 1 1 1 1 0 1 0 0 0 0 0 1 1 0 1 1 0 1 0 1 0 1 0 1 0 1\n",
      " 0 1 0 0 1 0 1 1 0 1 1 1 0 0 0 0 1 1 1 1 1 1 0 0 0 1 1 0 1 0 0 0 1 1 0 1 0\n",
      " 0 1 1 1 1 1 0 0 0 1 0 1 1 1 0 0 1 0 1 0 1 1 0 1 1 1 1 1 1 1 0 1 0 1 0 0 1\n",
      " 0 0 1 1 1 1 1 1 1 1 1 0 1 0 1 1 1 1 1 0 1 1 1 1 1 1 0 0 1 1 1 0]\n",
      "[0.36406845 0.64877126 0.68006758 0.61078806 0.67609998 0.6840601\n",
      " 0.66961622 0.68408467 0.65626284 0.68007723 0.4505791  0.6164526\n",
      " 0.67486159 0.48946514 0.4505791  0.36808476 0.63188741 0.31605594\n",
      " 0.31567831 0.31542815 0.32743403 0.34080512 0.60120829 0.6843199\n",
      " 0.37212367 0.67724383 0.67343264 0.43560968 0.67724383 0.31605594\n",
      " 0.67343264 0.31116149 0.64174066 0.36908188 0.6802914  0.34947421\n",
      " 0.67767096 0.3664825  0.64232896 0.31447151 0.52072276 0.67177936\n",
      " 0.49999148 0.67532535 0.59544527 0.31447151 0.6802914  0.67745189\n",
      " 0.67989484 0.32213221 0.31605594 0.35755488 0.36737441 0.6840601\n",
      " 0.68090378 0.6840601  0.64877126 0.64710241 0.66299348 0.31605594\n",
      " 0.36012794 0.31421275 0.67177936 0.6840601  0.31605594 0.61695804\n",
      " 0.31566103 0.31562153 0.31605594 0.66747473 0.54996377 0.31598481\n",
      " 0.6840601  0.5328595  0.3563271  0.64877126 0.68429534 0.56830906\n",
      " 0.6802914  0.66735447 0.36908188 0.31598481 0.31598481 0.67185812\n",
      " 0.37172536 0.6840601  0.67343264 0.6840601  0.31810028 0.31598481\n",
      " 0.6840601  0.55448731 0.56680369 0.34114183 0.65362256 0.6843199\n",
      " 0.31605594 0.55716318 0.68408467 0.68423185 0.67927095 0.68429534\n",
      " 0.63200046 0.6508906  0.31152709 0.61250286 0.32149803 0.56745251\n",
      " 0.55122265 0.36737441 0.68029842 0.31439868 0.31605594 0.50406714\n",
      " 0.67989484 0.66249549 0.55448731 0.6846634  0.64877126 0.68429534\n",
      " 0.6299958  0.6840601  0.41464889 0.60439751 0.31605594 0.56830906\n",
      " 0.51976442 0.6840601  0.6840601  0.67735624 0.32091372 0.6762053\n",
      " 0.67724383 0.5551612  0.64087838 0.6840601  0.58766435 0.52497878\n",
      " 0.31605594 0.68423185 0.68429534 0.60849714 0.31303941]\n"
     ]
    }
   ],
   "source": [
    "print(y_test)\n",
    "print(y_pred)"
   ]
  },
  {
   "cell_type": "code",
   "execution_count": 64,
   "metadata": {},
   "outputs": [],
   "source": [
    "y_pred_final = np.zeros(y_pred.shape, dtype=np.int8)\n",
    "for i in range(y_pred.shape[0]):\n",
    "    if y_pred[i] > 0.5:\n",
    "        y_pred_final[i] = 1"
   ]
  },
  {
   "cell_type": "code",
   "execution_count": 65,
   "metadata": {},
   "outputs": [
    {
     "name": "stdout",
     "output_type": "stream",
     "text": [
      "[0 1 1 1 1 1 1 1 1 1 1 1 1 1 1 0 1 0 0 0 0 0 1 1 0 1 1 0 1 0 1 0 1 0 1 0 1\n",
      " 0 1 0 0 1 0 1 1 0 1 1 1 0 0 0 0 1 1 1 1 1 1 0 0 0 1 1 0 1 0 0 0 1 1 0 1 0\n",
      " 0 1 1 1 1 1 0 0 0 1 0 1 1 1 0 0 1 0 1 0 1 1 0 1 1 1 1 1 1 1 0 1 0 1 0 0 1\n",
      " 0 0 1 1 1 1 1 1 1 1 1 0 1 0 1 1 1 1 1 0 1 1 1 1 1 1 0 0 1 1 1 0]\n",
      "[0 1 1 1 1 1 1 1 1 1 0 1 1 0 0 0 1 0 0 0 0 0 1 1 0 1 1 0 1 0 1 0 1 0 1 0 1\n",
      " 0 1 0 1 1 0 1 1 0 1 1 1 0 0 0 0 1 1 1 1 1 1 0 0 0 1 1 0 1 0 0 0 1 1 0 1 1\n",
      " 0 1 1 1 1 1 0 0 0 1 0 1 1 1 0 0 1 1 1 0 1 1 0 1 1 1 1 1 1 1 0 1 0 1 1 0 1\n",
      " 0 0 1 1 1 1 1 1 1 1 1 0 1 0 1 1 1 1 1 0 1 1 1 1 1 1 1 0 1 1 1 0]\n"
     ]
    }
   ],
   "source": [
    "print(y_test)\n",
    "print(y_pred_final)"
   ]
  },
  {
   "cell_type": "code",
   "execution_count": 66,
   "metadata": {},
   "outputs": [
    {
     "name": "stdout",
     "output_type": "stream",
     "text": [
      "0.9440559440559441\n"
     ]
    }
   ],
   "source": [
    "print(accuracy_score(y_test, y_pred_final))"
   ]
  },
  {
   "cell_type": "code",
   "execution_count": 67,
   "metadata": {},
   "outputs": [
    {
     "name": "stdout",
     "output_type": "stream",
     "text": [
      "[0 1 1 1 1 1 1 1 1 1 1 1 1 0 1 0 1 0 0 0 0 0 1 1 0 1 1 0 1 0 1 0 1 0 1 0 1\n",
      " 0 1 0 0 1 0 1 0 0 1 1 1 0 0 0 0 1 1 1 1 1 1 0 0 0 1 1 0 1 0 0 0 1 0 0 1 1\n",
      " 0 1 1 1 1 1 0 0 0 1 0 1 1 1 0 0 1 0 0 0 1 1 0 1 1 1 1 1 1 1 0 1 0 1 0 0 1\n",
      " 0 0 1 1 1 1 1 1 1 1 1 0 1 0 1 0 1 1 1 0 1 1 1 1 1 1 0 0 1 1 1 0]\n"
     ]
    }
   ],
   "source": [
    "lr = LogisticRegression(penalty='l1')\n",
    "lr.fit(X_train, y_train)\n",
    "y_pred_lr = lr.predict(X_test)\n",
    "print(y_pred_lr)"
   ]
  },
  {
   "cell_type": "code",
   "execution_count": 68,
   "metadata": {},
   "outputs": [
    {
     "name": "stdout",
     "output_type": "stream",
     "text": [
      "0.958041958041958\n",
      "0.958041958041958\n"
     ]
    }
   ],
   "source": [
    "print(accuracy_score(y_test, y_pred_lr))\n",
    "print(lr.score(X_test, y_test))"
   ]
  },
  {
   "cell_type": "code",
   "execution_count": null,
   "metadata": {},
   "outputs": [],
   "source": []
  }
 ],
 "metadata": {
  "kernelspec": {
   "display_name": "Python 3",
   "language": "python",
   "name": "python3"
  },
  "language_info": {
   "codemirror_mode": {
    "name": "ipython",
    "version": 3
   },
   "file_extension": ".py",
   "mimetype": "text/x-python",
   "name": "python",
   "nbconvert_exporter": "python",
   "pygments_lexer": "ipython3",
   "version": "3.6.4"
  }
 },
 "nbformat": 4,
 "nbformat_minor": 2
}
