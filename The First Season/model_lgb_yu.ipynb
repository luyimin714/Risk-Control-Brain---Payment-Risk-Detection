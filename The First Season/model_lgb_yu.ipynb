{
 "cells": [
  {
   "cell_type": "code",
   "execution_count": 3,
   "metadata": {},
   "outputs": [],
   "source": [
    "import gc\n",
    "import pandas as pd\n",
    "import numpy as np\n",
    "import os\n",
    "# import xgboost as xgb\n",
    "import lightgbm as lgb\n",
    "from sklearn import metrics\n",
    "import matplotlib.pyplot as plt\n",
    "from sklearn.ensemble import RandomForestClassifier\n",
    "from sklearn.model_selection import train_test_split\n",
    "from sklearn.metrics import precision_score, recall_score, f1_score  \n",
    "from sklearn.metrics import confusion_matrix  \n",
    "import seaborn as sns\n",
    "from sklearn.ensemble import RandomForestClassifier, VotingClassifier\n",
    "from sklearn.model_selection import ParameterGrid"
   ]
  },
  {
   "cell_type": "code",
   "execution_count": 4,
   "metadata": {},
   "outputs": [],
   "source": [
    "####################训练集#######################\n",
    "DATA_PATH = \"datasets\"\n",
    "csv_path = os.path.join(DATA_PATH, \"atec_anti_fraud_train.csv\")\n",
    "data = pd.read_csv(csv_path)"
   ]
  },
  {
   "cell_type": "code",
   "execution_count": 5,
   "metadata": {},
   "outputs": [],
   "source": [
    "data.loc[data['label'] == -1, 'label'] = 1\n",
    "# data_to_label = data[data['label'] == -1]\n",
    "# data = data[data.label.isin([0, 1])]"
   ]
  },
  {
   "cell_type": "code",
   "execution_count": 6,
   "metadata": {},
   "outputs": [],
   "source": [
    "data.loc[data['label'] == 1, 'label'] = 2\n",
    "data.loc[data['label'] == 0, 'label'] = 1\n",
    "data.loc[data['label'] == 2, 'label'] = 0"
   ]
  },
  {
   "cell_type": "code",
   "execution_count": 9,
   "metadata": {},
   "outputs": [],
   "source": [
    "# data.sort_values(\"date\",inplace=True)\n",
    "# data.interpolate(method=\"nearest\", inplace=True)\n",
    "# data.sort_index(inplace=True)"
   ]
  },
  {
   "cell_type": "code",
   "execution_count": 7,
   "metadata": {},
   "outputs": [],
   "source": [
    "feature_nan = data.isnull().sum()\n",
    "drop_list = feature_nan[feature_nan / data.shape[0] > 0.5].reset_index()['index'].tolist()"
   ]
  },
  {
   "cell_type": "code",
   "execution_count": 8,
   "metadata": {},
   "outputs": [
    {
     "name": "stdout",
     "output_type": "stream",
     "text": [
      "['f36', 'f37', 'f38', 'f39', 'f40', 'f41', 'f42', 'f43', 'f44', 'f45', 'f46', 'f47']\n"
     ]
    }
   ],
   "source": [
    "print(drop_list)"
   ]
  },
  {
   "cell_type": "code",
   "execution_count": 11,
   "metadata": {},
   "outputs": [],
   "source": [
    "data = data.drop(drop_list, axis=1)"
   ]
  },
  {
   "cell_type": "code",
   "execution_count": 12,
   "metadata": {},
   "outputs": [],
   "source": [
    "####################测试集#######################\n",
    "csv_path = os.path.join(DATA_PATH, \"atec_anti_fraud_test_b.csv\")\n",
    "data_test = pd.read_csv(csv_path)"
   ]
  },
  {
   "cell_type": "code",
   "execution_count": 13,
   "metadata": {},
   "outputs": [],
   "source": [
    "data_test.sort_values(\"date\",inplace=True)\n",
    "data_test.interpolate(method=\"nearest\", inplace=True) \n",
    "data_test.sort_index(inplace=True)"
   ]
  },
  {
   "cell_type": "code",
   "execution_count": 14,
   "metadata": {},
   "outputs": [],
   "source": [
    "data_test = data_test.drop(drop_list, axis=1)"
   ]
  },
  {
   "cell_type": "code",
   "execution_count": 73,
   "metadata": {
    "collapsed": true
   },
   "outputs": [],
   "source": [
    "#data_test['day'] = data_test['date'].apply(lambda x: int(str(x)[6:8]))\n",
    "# data.fillna(0, inplace=True)\n",
    "# data_test.fillna(0, inplace=True)"
   ]
  },
  {
   "cell_type": "code",
   "execution_count": 15,
   "metadata": {
    "scrolled": true
   },
   "outputs": [
    {
     "name": "stdout",
     "output_type": "stream",
     "text": [
      "(994731, 300)\n",
      "(749690, 300)\n",
      "(245041, 300)\n"
     ]
    }
   ],
   "source": [
    "data_train = data[data['date'] <= 20171021]\n",
    "data_val = data[data['date'] > 20171021]\n",
    "print(data.shape)\n",
    "print(data_train.shape)\n",
    "print(data_val.shape)"
   ]
  },
  {
   "cell_type": "code",
   "execution_count": 16,
   "metadata": {},
   "outputs": [],
   "source": [
    "X_train = data_train.loc[:,'f1':].as_matrix()\n",
    "y_train = data_train.loc[:,'label'].as_matrix()\n",
    "\n",
    "X_val = data_val.loc[:,'f1':].as_matrix()\n",
    "y_val = data_val.loc[:,'label'].as_matrix()\n",
    "\n",
    "X_test = data_test.loc[:,'f1':].as_matrix()"
   ]
  },
  {
   "cell_type": "code",
   "execution_count": 17,
   "metadata": {},
   "outputs": [
    {
     "name": "stdout",
     "output_type": "stream",
     "text": [
      "(749690, 297)\n",
      "(749690,)\n",
      "(245041, 297)\n",
      "(245041,)\n",
      "(500538, 297)\n"
     ]
    }
   ],
   "source": [
    "#X_train, X_val, y_train, y_val = train_test_split(X, y, test_size=0.2, random_state=0)\n",
    "print(X_train.shape)\n",
    "print(y_train.shape)\n",
    "print(X_val.shape)\n",
    "print(y_val.shape)\n",
    "print(X_test.shape)"
   ]
  },
  {
   "cell_type": "code",
   "execution_count": 18,
   "metadata": {},
   "outputs": [],
   "source": [
    "lgb_train = lgb.Dataset(X_train, y_train)\n",
    "lgb_eval = lgb.Dataset(X_val, y_val, reference=lgb_train)"
   ]
  },
  {
   "cell_type": "code",
   "execution_count": 19,
   "metadata": {},
   "outputs": [],
   "source": [
    "def eval_func(y_pred, y_true):\n",
    "    fpr, tpr, thresholds = metrics.roc_curve(y_pred, y_true, pos_label=1)\n",
    "    score = 0.4 * tpr[np.argwhere(fpr < 0.001)[-1]] + 0.3 * tpr[np.argwhere(\n",
    "        fpr < 0.005)[-1]] + 0.3 * tpr[np.argwhere(fpr < 0.01)[-1]]\n",
    "    return 'score', score, True"
   ]
  },
  {
   "cell_type": "code",
   "execution_count": 20,
   "metadata": {},
   "outputs": [],
   "source": [
    "params = {\n",
    "    'task': 'train',\n",
    "    'boosting_type': 'gbdt',\n",
    "    'objective': 'binary',\n",
    "    'metric': {'auc'},\n",
    "    'num_leaves': 50,\n",
    "    'learning_rate': 0.05,\n",
    "    'feature_fraction': 0.9,\n",
    "    'bagging_fraction': 0.8,\n",
    "    'bagging_freq': 5,\n",
    "    'random_state': 0,\n",
    "    'n_jobs': 8,\n",
    "    'verbose': 0\n",
    "}"
   ]
  },
  {
   "cell_type": "code",
   "execution_count": 21,
   "metadata": {},
   "outputs": [
    {
     "name": "stderr",
     "output_type": "stream",
     "text": [
      "C:\\ProgramData\\Anaconda3\\lib\\site-packages\\lightgbm\\basic.py:1038: UserWarning: categorical_feature in Dataset is overrided. New categorical_feature is [1, 2, 3, 4, 6, 7, 8, 9, 10, 11, 12, 13, 14, 15, 16, 17, 18, 19]\n",
      "  warnings.warn('categorical_feature in Dataset is overrided. New categorical_feature is {}'.format(sorted(list(categorical_feature))))\n",
      "C:\\ProgramData\\Anaconda3\\lib\\site-packages\\lightgbm\\basic.py:681: UserWarning: categorical_feature in param dict is overrided.\n",
      "  warnings.warn('categorical_feature in param dict is overrided.')\n"
     ]
    },
    {
     "name": "stdout",
     "output_type": "stream",
     "text": [
      "[1]\tvalid_0's auc: 0.892182\n",
      "Training until validation scores don't improve for 20 rounds.\n",
      "[2]\tvalid_0's auc: 0.925331\n",
      "[3]\tvalid_0's auc: 0.928663\n",
      "[4]\tvalid_0's auc: 0.929544\n",
      "[5]\tvalid_0's auc: 0.931719\n",
      "[6]\tvalid_0's auc: 0.931831\n",
      "[7]\tvalid_0's auc: 0.932195\n",
      "[8]\tvalid_0's auc: 0.932253\n",
      "[9]\tvalid_0's auc: 0.932279\n",
      "[10]\tvalid_0's auc: 0.932267\n",
      "[11]\tvalid_0's auc: 0.932521\n",
      "[12]\tvalid_0's auc: 0.953334\n",
      "[13]\tvalid_0's auc: 0.954102\n",
      "[14]\tvalid_0's auc: 0.954586\n",
      "[15]\tvalid_0's auc: 0.954885\n",
      "[16]\tvalid_0's auc: 0.955521\n",
      "[17]\tvalid_0's auc: 0.955937\n",
      "[18]\tvalid_0's auc: 0.956306\n",
      "[19]\tvalid_0's auc: 0.956417\n",
      "[20]\tvalid_0's auc: 0.957917\n",
      "[21]\tvalid_0's auc: 0.958586\n",
      "[22]\tvalid_0's auc: 0.958846\n",
      "[23]\tvalid_0's auc: 0.95933\n",
      "[24]\tvalid_0's auc: 0.959595\n",
      "[25]\tvalid_0's auc: 0.959784\n",
      "[26]\tvalid_0's auc: 0.960068\n",
      "[27]\tvalid_0's auc: 0.960786\n",
      "[28]\tvalid_0's auc: 0.962616\n",
      "[29]\tvalid_0's auc: 0.962799\n",
      "[30]\tvalid_0's auc: 0.962837\n",
      "[31]\tvalid_0's auc: 0.963954\n",
      "[32]\tvalid_0's auc: 0.964056\n",
      "[33]\tvalid_0's auc: 0.964083\n",
      "[34]\tvalid_0's auc: 0.964163\n",
      "[35]\tvalid_0's auc: 0.964204\n",
      "[36]\tvalid_0's auc: 0.964386\n",
      "[37]\tvalid_0's auc: 0.964437\n",
      "[38]\tvalid_0's auc: 0.964782\n",
      "[39]\tvalid_0's auc: 0.964511\n",
      "[40]\tvalid_0's auc: 0.964979\n",
      "[41]\tvalid_0's auc: 0.964979\n",
      "[42]\tvalid_0's auc: 0.965067\n",
      "[43]\tvalid_0's auc: 0.965175\n",
      "[44]\tvalid_0's auc: 0.96523\n",
      "[45]\tvalid_0's auc: 0.965408\n",
      "[46]\tvalid_0's auc: 0.965594\n",
      "[47]\tvalid_0's auc: 0.965477\n",
      "[48]\tvalid_0's auc: 0.965922\n",
      "[49]\tvalid_0's auc: 0.965915\n",
      "[50]\tvalid_0's auc: 0.965971\n",
      "[51]\tvalid_0's auc: 0.966401\n",
      "[52]\tvalid_0's auc: 0.966469\n",
      "[53]\tvalid_0's auc: 0.966886\n",
      "[54]\tvalid_0's auc: 0.966948\n",
      "[55]\tvalid_0's auc: 0.967033\n",
      "[56]\tvalid_0's auc: 0.967184\n",
      "[57]\tvalid_0's auc: 0.967299\n",
      "[58]\tvalid_0's auc: 0.967478\n",
      "[59]\tvalid_0's auc: 0.967546\n",
      "[60]\tvalid_0's auc: 0.967613\n",
      "[61]\tvalid_0's auc: 0.967721\n",
      "[62]\tvalid_0's auc: 0.967805\n",
      "[63]\tvalid_0's auc: 0.967936\n",
      "[64]\tvalid_0's auc: 0.96795\n",
      "[65]\tvalid_0's auc: 0.968022\n",
      "[66]\tvalid_0's auc: 0.968132\n",
      "[67]\tvalid_0's auc: 0.968097\n",
      "[68]\tvalid_0's auc: 0.968114\n",
      "[69]\tvalid_0's auc: 0.968191\n",
      "[70]\tvalid_0's auc: 0.968223\n",
      "[71]\tvalid_0's auc: 0.968307\n",
      "[72]\tvalid_0's auc: 0.968413\n",
      "[73]\tvalid_0's auc: 0.968458\n",
      "[74]\tvalid_0's auc: 0.968862\n",
      "[75]\tvalid_0's auc: 0.968912\n",
      "[76]\tvalid_0's auc: 0.968982\n",
      "[77]\tvalid_0's auc: 0.969093\n",
      "[78]\tvalid_0's auc: 0.96915\n",
      "[79]\tvalid_0's auc: 0.969259\n",
      "[80]\tvalid_0's auc: 0.969266\n",
      "[81]\tvalid_0's auc: 0.969276\n",
      "[82]\tvalid_0's auc: 0.969336\n",
      "[83]\tvalid_0's auc: 0.969351\n",
      "[84]\tvalid_0's auc: 0.970499\n",
      "[85]\tvalid_0's auc: 0.97048\n",
      "[86]\tvalid_0's auc: 0.970563\n",
      "[87]\tvalid_0's auc: 0.970596\n",
      "[88]\tvalid_0's auc: 0.970675\n",
      "[89]\tvalid_0's auc: 0.97079\n",
      "[90]\tvalid_0's auc: 0.9708\n",
      "[91]\tvalid_0's auc: 0.97083\n",
      "[92]\tvalid_0's auc: 0.970754\n",
      "[93]\tvalid_0's auc: 0.970712\n",
      "[94]\tvalid_0's auc: 0.970751\n",
      "[95]\tvalid_0's auc: 0.970706\n",
      "[96]\tvalid_0's auc: 0.970962\n",
      "[97]\tvalid_0's auc: 0.97097\n",
      "[98]\tvalid_0's auc: 0.971203\n",
      "[99]\tvalid_0's auc: 0.971182\n",
      "[100]\tvalid_0's auc: 0.971318\n",
      "[101]\tvalid_0's auc: 0.971517\n",
      "[102]\tvalid_0's auc: 0.971538\n",
      "[103]\tvalid_0's auc: 0.97179\n",
      "[104]\tvalid_0's auc: 0.971962\n",
      "[105]\tvalid_0's auc: 0.97211\n",
      "[106]\tvalid_0's auc: 0.972197\n",
      "[107]\tvalid_0's auc: 0.972218\n",
      "[108]\tvalid_0's auc: 0.972274\n",
      "[109]\tvalid_0's auc: 0.972372\n",
      "[110]\tvalid_0's auc: 0.972429\n",
      "[111]\tvalid_0's auc: 0.972543\n",
      "[112]\tvalid_0's auc: 0.972631\n",
      "[113]\tvalid_0's auc: 0.972594\n",
      "[114]\tvalid_0's auc: 0.972638\n",
      "[115]\tvalid_0's auc: 0.972689\n",
      "[116]\tvalid_0's auc: 0.97282\n",
      "[117]\tvalid_0's auc: 0.972912\n",
      "[118]\tvalid_0's auc: 0.972974\n",
      "[119]\tvalid_0's auc: 0.973046\n",
      "[120]\tvalid_0's auc: 0.973057\n",
      "[121]\tvalid_0's auc: 0.973192\n",
      "[122]\tvalid_0's auc: 0.973248\n",
      "[123]\tvalid_0's auc: 0.973306\n",
      "[124]\tvalid_0's auc: 0.973335\n",
      "[125]\tvalid_0's auc: 0.973341\n",
      "[126]\tvalid_0's auc: 0.973323\n",
      "[127]\tvalid_0's auc: 0.973369\n",
      "[128]\tvalid_0's auc: 0.973353\n",
      "[129]\tvalid_0's auc: 0.973353\n",
      "[130]\tvalid_0's auc: 0.973326\n",
      "[131]\tvalid_0's auc: 0.973351\n",
      "[132]\tvalid_0's auc: 0.973402\n",
      "[133]\tvalid_0's auc: 0.973429\n",
      "[134]\tvalid_0's auc: 0.973418\n",
      "[135]\tvalid_0's auc: 0.973407\n",
      "[136]\tvalid_0's auc: 0.97341\n",
      "[137]\tvalid_0's auc: 0.973404\n",
      "[138]\tvalid_0's auc: 0.973465\n",
      "[139]\tvalid_0's auc: 0.973549\n",
      "[140]\tvalid_0's auc: 0.973563\n",
      "[141]\tvalid_0's auc: 0.973606\n",
      "[142]\tvalid_0's auc: 0.97364\n",
      "[143]\tvalid_0's auc: 0.973657\n",
      "[144]\tvalid_0's auc: 0.973685\n",
      "[145]\tvalid_0's auc: 0.973712\n",
      "[146]\tvalid_0's auc: 0.973726\n",
      "[147]\tvalid_0's auc: 0.973749\n",
      "[148]\tvalid_0's auc: 0.97393\n",
      "[149]\tvalid_0's auc: 0.973948\n",
      "[150]\tvalid_0's auc: 0.973946\n",
      "[151]\tvalid_0's auc: 0.973978\n",
      "[152]\tvalid_0's auc: 0.974024\n",
      "[153]\tvalid_0's auc: 0.974022\n",
      "[154]\tvalid_0's auc: 0.974002\n",
      "[155]\tvalid_0's auc: 0.974009\n",
      "[156]\tvalid_0's auc: 0.974028\n",
      "[157]\tvalid_0's auc: 0.973988\n",
      "[158]\tvalid_0's auc: 0.974036\n",
      "[159]\tvalid_0's auc: 0.97397\n",
      "[160]\tvalid_0's auc: 0.973957\n",
      "[161]\tvalid_0's auc: 0.97394\n",
      "[162]\tvalid_0's auc: 0.973956\n",
      "[163]\tvalid_0's auc: 0.973968\n",
      "[164]\tvalid_0's auc: 0.973991\n",
      "[165]\tvalid_0's auc: 0.973985\n",
      "[166]\tvalid_0's auc: 0.974065\n",
      "[167]\tvalid_0's auc: 0.974099\n",
      "[168]\tvalid_0's auc: 0.974163\n",
      "[169]\tvalid_0's auc: 0.974098\n",
      "[170]\tvalid_0's auc: 0.974122\n",
      "[171]\tvalid_0's auc: 0.974142\n",
      "[172]\tvalid_0's auc: 0.974119\n",
      "[173]\tvalid_0's auc: 0.974155\n",
      "[174]\tvalid_0's auc: 0.974163\n",
      "[175]\tvalid_0's auc: 0.974168\n",
      "[176]\tvalid_0's auc: 0.974084\n",
      "[177]\tvalid_0's auc: 0.974092\n",
      "[178]\tvalid_0's auc: 0.974118\n",
      "[179]\tvalid_0's auc: 0.97412\n",
      "[180]\tvalid_0's auc: 0.974115\n",
      "[181]\tvalid_0's auc: 0.974136\n",
      "[182]\tvalid_0's auc: 0.974146\n",
      "[183]\tvalid_0's auc: 0.974168\n",
      "[184]\tvalid_0's auc: 0.974146\n",
      "[185]\tvalid_0's auc: 0.974149\n",
      "[186]\tvalid_0's auc: 0.974136\n",
      "[187]\tvalid_0's auc: 0.97408\n",
      "[188]\tvalid_0's auc: 0.974049\n",
      "[189]\tvalid_0's auc: 0.973973\n",
      "[190]\tvalid_0's auc: 0.973921\n",
      "[191]\tvalid_0's auc: 0.973983\n",
      "[192]\tvalid_0's auc: 0.974047\n",
      "[193]\tvalid_0's auc: 0.974046\n",
      "[194]\tvalid_0's auc: 0.974056\n",
      "[195]\tvalid_0's auc: 0.974085\n",
      "Early stopping, best iteration is:\n",
      "[175]\tvalid_0's auc: 0.974168\n"
     ]
    }
   ],
   "source": [
    "model = lgb.train(params,\n",
    "                lgb_train,\n",
    "                num_boost_round=300,\n",
    "                valid_sets=[lgb_eval],\n",
    "                categorical_feature=[1,2,3,4,6,7,8,9,10,11,12,13,14,15,16,17,18,19],\n",
    "#                 feval='auc',\n",
    "                verbose_eval=True,\n",
    "                early_stopping_rounds=20)"
   ]
  },
  {
   "cell_type": "code",
   "execution_count": 22,
   "metadata": {},
   "outputs": [
    {
     "name": "stdout",
     "output_type": "stream",
     "text": [
      "{'task': 'train', 'boosting_type': 'gbdt', 'objective': 'binary', 'metric': {'auc'}, 'num_leaves': 50, 'learning_rate': 0.05, 'feature_fraction': 0.9, 'bagging_fraction': 0.8, 'bagging_freq': 5, 'random_state': 0, 'n_jobs': 8, 'verbose': 0, 'categorical_column': [1, 2, 3, 4, 6, 7, 8, 9, 10, 11, 12, 13, 14, 15, 16, 17, 18, 19]}\n",
      "('score', array([0.53041449]), True)\n",
      "('score', array([0.41151011]), True)\n"
     ]
    }
   ],
   "source": [
    "print(params)\n",
    "print(eval_func(1-y_train, 1 - model.predict(X_train, num_iteration=model.best_iteration)))\n",
    "print(eval_func(1-y_val, 1 - model.predict(X_val, num_iteration=model.best_iteration)))"
   ]
  },
  {
   "cell_type": "code",
   "execution_count": 23,
   "metadata": {},
   "outputs": [],
   "source": [
    "y_pred = 1 - model.predict(X_test)\n",
    "result = pd.DataFrame({'id':data_test['id'].as_matrix(), 'score':y_pred})\n",
    "result.to_csv(\"submission.csv\", index=False)"
   ]
  },
  {
   "cell_type": "code",
   "execution_count": null,
   "metadata": {},
   "outputs": [],
   "source": []
  }
 ],
 "metadata": {
  "kernelspec": {
   "display_name": "Python 3",
   "language": "python",
   "name": "python3"
  },
  "language_info": {
   "codemirror_mode": {
    "name": "ipython",
    "version": 3
   },
   "file_extension": ".py",
   "mimetype": "text/x-python",
   "name": "python",
   "nbconvert_exporter": "python",
   "pygments_lexer": "ipython3",
   "version": "3.6.4"
  }
 },
 "nbformat": 4,
 "nbformat_minor": 2
}
