{
 "cells": [
  {
   "cell_type": "code",
   "execution_count": 3,
   "metadata": {
    "_cell_guid": "b1076dfc-b9ad-4769-8c92-a6c4dae69d19",
    "_uuid": "8f2839f25d086af736a60e9eeb907d3b93b6e0e5",
    "collapsed": true
   },
   "outputs": [],
   "source": [
    "# This Python 3 environment comes with many helpful analytics libraries installed\n",
    "# It is defined by the kaggle/python docker image: https://github.com/kaggle/docker-python\n",
    "# For example, here's several helpful packages to load in \n",
    "\n",
    "import gc\n",
    "import time\n",
    "\n",
    "import numpy as np\n",
    "import pandas as pd\n",
    "from sklearn import metrics\n",
    "import matplotlib.pyplot as plt\n",
    "from sklearn.ensemble import RandomForestClassifier\n",
    "\n",
    "%matplotlib inline\n",
    "# Input data files are available in the \"../input/\" directory.\n",
    "# For example, running this (by clicking run or pressing Shift+Enter) will list the files in the input directory\n",
    "\n",
    "import os\n",
    "print(os.listdir(\"../input\"))\n",
    "path = '../input/'\n",
    "# Any results you write to the current directory are saved as output."
   ]
  },
  {
   "cell_type": "code",
   "execution_count": 4,
   "metadata": {
    "_cell_guid": "79c7e3d0-c299-4dcb-8224-4455121ee9b0",
    "_uuid": "d629ff2d2480ee46fbb7e2d37f6b5fab8052498a",
    "collapsed": true
   },
   "outputs": [],
   "source": [
    "# 读取训练集和测试集\n",
    "train = pd.read_csv(path + 'atec_anti_fraud_train.csv')\n",
    "train = train[train.label.isin([0, 1])]\n",
    "test = pd.read_csv(path + 'atec_anti_fraud_test_a.csv')"
   ]
  },
  {
   "cell_type": "code",
   "execution_count": 5,
   "metadata": {
    "_uuid": "cb7364a5dda51a948fcbc9ba4dd7464828b35f5a",
    "collapsed": true
   },
   "outputs": [],
   "source": [
    "# 合并train与test，统一处理\n",
    "test['label'] = -1\n",
    "data = pd.concat((train, test), axis=0, sort=True)"
   ]
  },
  {
   "cell_type": "code",
   "execution_count": 6,
   "metadata": {
    "_uuid": "8b9a2cc5b7b52de03b4b54a9b5d7d2832308c15b",
    "collapsed": true
   },
   "outputs": [],
   "source": [
    "del train, test\n",
    "gc.collect()"
   ]
  },
  {
   "cell_type": "code",
   "execution_count": 7,
   "metadata": {
    "_uuid": "8b272a7a96f9640bd46129d582ebc4a676bf2d7a",
    "collapsed": true
   },
   "outputs": [],
   "source": [
    "data.head()"
   ]
  },
  {
   "cell_type": "code",
   "execution_count": 8,
   "metadata": {
    "_uuid": "cbf622b66393be190c0d596b07d95be057c4cf20",
    "collapsed": true
   },
   "outputs": [],
   "source": [
    "# 处理date，年、月、日\n",
    "data['year'] = data['date'].apply(lambda x: int(str(x)[0:4]))\n",
    "data['month'] = data['date'].apply(lambda x: int(str(x)[4:6]))\n",
    "data['day'] = data['date'].apply(lambda x: int(str(x)[6:8]))"
   ]
  },
  {
   "cell_type": "code",
   "execution_count": 9,
   "metadata": {
    "_uuid": "e51901d97727524f1cfa85adb394cf52dd599401",
    "collapsed": true
   },
   "outputs": [],
   "source": [
    "# 得到int，float的列名\n",
    "float_cols = data.blocks['float64'].columns\n",
    "int_cols = data.blocks['int64'].columns"
   ]
  },
  {
   "cell_type": "code",
   "execution_count": 10,
   "metadata": {
    "_uuid": "a14138fe817777214c15f0a3ac490dd87522f5ac",
    "collapsed": true
   },
   "outputs": [],
   "source": [
    "d1 = dict((col, -1) for col in int_cols)\n",
    "d2 = dict((col, -1.) for col in float_cols)"
   ]
  },
  {
   "cell_type": "code",
   "execution_count": 11,
   "metadata": {
    "_uuid": "ebe0b3b4b8122fbb6fbd44bc307fc106d06184ce",
    "collapsed": true
   },
   "outputs": [],
   "source": [
    "# 处理缺失值\n",
    "data = data.fillna(value=dict(d1, **d2))"
   ]
  },
  {
   "cell_type": "code",
   "execution_count": 12,
   "metadata": {
    "_uuid": "5aed7b4c4a95fb0874957d720eb3b25b34b037b5",
    "collapsed": true
   },
   "outputs": [],
   "source": [
    "train = data[data.label.isin([0, 1])]\n",
    "test = data[data.label.isin([-1])]\n",
    "\n",
    "del data\n",
    "gc.collect()"
   ]
  },
  {
   "cell_type": "code",
   "execution_count": 13,
   "metadata": {
    "_uuid": "6b670eef18e735df2ffc343d28eb20b00f42f9c6",
    "collapsed": true
   },
   "outputs": [],
   "source": [
    "train.groupby('month').count()['date']"
   ]
  },
  {
   "cell_type": "code",
   "execution_count": 14,
   "metadata": {
    "_uuid": "98174bf5bab8ccd282877058dbc4e37880b0d133",
    "collapsed": true
   },
   "outputs": [],
   "source": [
    "gc.collect()"
   ]
  },
  {
   "cell_type": "code",
   "execution_count": 15,
   "metadata": {
    "_uuid": "e73cb8296a07060dcef9ab392ef85abd23fac084",
    "collapsed": true
   },
   "outputs": [],
   "source": [
    "train = train.drop('id', axis=1)\n",
    "res = test[['id']]\n",
    "test = test.drop(['id', 'label'], axis=1)\n",
    "\n",
    "val = train[train['month'] == 11]\n",
    "train = train[train['month'] != 11]\n",
    "train_label = train.pop('label')\n",
    "val_label = val.pop('label')"
   ]
  },
  {
   "cell_type": "code",
   "execution_count": 16,
   "metadata": {
    "_uuid": "53c44746ff5fe2aa260bf820d54d1df3b13ac674",
    "collapsed": true
   },
   "outputs": [],
   "source": [
    "def eval_func(y_pred, y_true):\n",
    "    fpr, tpr, thresholds = metrics.roc_curve(y_pred, y_true, pos_label=1)\n",
    "    score = 0.4 * tpr[np.argwhere(fpr < 0.001)[-1]] + 0.3 * tpr[np.argwhere(\n",
    "        fpr < 0.005)[-1]] + 0.3 * tpr[np.argwhere(fpr < 0.01)[-1]]\n",
    "    return score"
   ]
  },
  {
   "cell_type": "code",
   "execution_count": 30,
   "metadata": {
    "_uuid": "87f22f6d29b10f239270f6a48f819e037dcf99ba",
    "collapsed": true
   },
   "outputs": [],
   "source": [
    "def rf_model(train_x, train_y, val_x, val_y, res, test):\n",
    "#     for i in range(13, 16, 2):\n",
    "    for i in range(1):\n",
    "        start_time = time.time()\n",
    "        clf = RandomForestClassifier(\n",
    "            n_estimators=16, \n",
    "            max_depth=15, \n",
    "            criterion='entropy', \n",
    "            max_features=20,\n",
    "            min_samples_split=402,\n",
    "            min_samples_leaf=1,\n",
    "#             max_leaf_nodes=i,\n",
    "            random_state=0, \n",
    "            n_jobs=4, \n",
    "            class_weight={0: 1, 1: 1})\n",
    "        clf.fit(train_x, train_y)\n",
    "        train_proba = clf.predict_proba(train_x)[:, 1]\n",
    "        val_proba = clf.predict_proba(val_x)[:, 1]\n",
    "        train_score = eval_func(train_y, train_proba)\n",
    "        val_score = eval_func(val_y, val_proba)\n",
    "        \n",
    "        cost_time = time.time() - start_time\n",
    "        \n",
    "        print('max_leaf_nodes = ', i, ' train score : ', train_score, ' validation score : ', val_score, ' diff = ', train_score - val_score, ' cost time : ', cost_time)\n",
    "        \n",
    "    res['score'] = clf.predict_proba(test)[:,1]\n",
    "    # res['score'] = res['score'].apply(lambda x: float('%.6f' % x))\n",
    "    res.to_csv('submission.csv', index=False)\n",
    "    return clf"
   ]
  },
  {
   "cell_type": "code",
   "execution_count": null,
   "metadata": {
    "_uuid": "3299f8e18738d209db9954279a989b00fb9ad860",
    "collapsed": true
   },
   "outputs": [],
   "source": [
    "clf = rf_model(train, train_label, val, val_label, res, test)"
   ]
  },
  {
   "cell_type": "code",
   "execution_count": null,
   "metadata": {
    "_uuid": "c63a651ab679f689533504059f47942455b4718d",
    "collapsed": true
   },
   "outputs": [],
   "source": []
  }
 ],
 "metadata": {
  "kernelspec": {
   "display_name": "Python 3",
   "language": "python",
   "name": "python3"
  },
  "language_info": {
   "codemirror_mode": {
    "name": "ipython",
    "version": 3
   },
   "file_extension": ".py",
   "mimetype": "text/x-python",
   "name": "python",
   "nbconvert_exporter": "python",
   "pygments_lexer": "ipython3",
   "version": "3.6.4"
  }
 },
 "nbformat": 4,
 "nbformat_minor": 1
}
