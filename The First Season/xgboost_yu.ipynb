{
 "cells": [
  {
   "cell_type": "code",
   "execution_count": 2,
   "metadata": {},
   "outputs": [],
   "source": [
    "import gc\n",
    "import pandas as pd\n",
    "import numpy as np\n",
    "import os\n",
    "import lightgbm as lgb\n",
    "from sklearn import metrics\n",
    "import xgboost as xgb\n",
    "from sklearn.ensemble import RandomForestClassifier\n",
    "import time"
   ]
  },
  {
   "cell_type": "code",
   "execution_count": 3,
   "metadata": {
    "collapsed": true
   },
   "outputs": [],
   "source": [
    "DATA_PATH = \"../\"\n",
    "csv_path = os.path.join(DATA_PATH, \"atec_anti_fraud_train.csv\")\n",
    "data = pd.read_csv(csv_path)"
   ]
  },
  {
   "cell_type": "code",
   "execution_count": 4,
   "metadata": {
    "collapsed": true
   },
   "outputs": [],
   "source": [
    "data.loc[data['label'] == -1, 'label'] = 1"
   ]
  },
  {
   "cell_type": "code",
   "execution_count": 5,
   "metadata": {
    "collapsed": true
   },
   "outputs": [],
   "source": [
    "data.loc[data['label'] == 1, 'label'] = 2\n",
    "data.loc[data['label'] == 0, 'label'] = 1\n",
    "data.loc[data['label'] == 2, 'label'] = 0"
   ]
  },
  {
   "cell_type": "code",
   "execution_count": 6,
   "metadata": {
    "collapsed": true
   },
   "outputs": [],
   "source": [
    "csv_path = os.path.join(DATA_PATH, \"atec_anti_fraud_test_b.csv\")\n",
    "data_test = pd.read_csv(csv_path)"
   ]
  },
  {
   "cell_type": "code",
   "execution_count": 6,
   "metadata": {
    "collapsed": true
   },
   "outputs": [],
   "source": [
    "# data.fillna(0, inplace=True)\n",
    "# data_test.fillna(0, inplace=True)"
   ]
  },
  {
   "cell_type": "code",
   "execution_count": 7,
   "metadata": {
    "collapsed": true
   },
   "outputs": [],
   "source": [
    "data_train = data[data['date'] <= 20171021]\n",
    "data_val = data[data['date'] > 20171021]"
   ]
  },
  {
   "cell_type": "code",
   "execution_count": 8,
   "metadata": {},
   "outputs": [
    {
     "data": {
      "text/plain": [
       "28"
      ]
     },
     "execution_count": 8,
     "metadata": {},
     "output_type": "execute_result"
    }
   ],
   "source": [
    "del data\n",
    "gc.collect()"
   ]
  },
  {
   "cell_type": "code",
   "execution_count": 9,
   "metadata": {
    "collapsed": true
   },
   "outputs": [],
   "source": [
    "X_train = data_train.loc[:,'f1':].as_matrix()\n",
    "y_train = data_train.loc[:,'label'].as_matrix()\n",
    "\n",
    "X_val = data_val.loc[:,'f1':].as_matrix()\n",
    "y_val = data_val.loc[:,'label'].as_matrix()\n",
    "\n",
    "X_test = data_test.loc[:,'f1':].as_matrix()"
   ]
  },
  {
   "cell_type": "code",
   "execution_count": 10,
   "metadata": {},
   "outputs": [
    {
     "data": {
      "text/plain": [
       "62"
      ]
     },
     "execution_count": 10,
     "metadata": {},
     "output_type": "execute_result"
    }
   ],
   "source": [
    "del data_train, data_val\n",
    "gc.collect()"
   ]
  },
  {
   "cell_type": "code",
   "execution_count": 11,
   "metadata": {
    "collapsed": true
   },
   "outputs": [],
   "source": [
    "train = xgb.DMatrix(X_train, label = y_train)\n",
    "val = xgb.DMatrix(X_val, label = y_val)\n",
    "test = xgb.DMatrix(X_test)"
   ]
  },
  {
   "cell_type": "code",
   "execution_count": 16,
   "metadata": {
    "collapsed": true
   },
   "outputs": [],
   "source": [
    "def eval_func(y_pred, y_true):\n",
    "    fpr, tpr, thresholds = metrics.roc_curve(y_pred, y_true, pos_label=1)\n",
    "    score = 0.4 * tpr[np.argwhere(fpr < 0.001)[-1]] + 0.3 * tpr[np.argwhere(\n",
    "        fpr < 0.005)[-1]] + 0.3 * tpr[np.argwhere(fpr < 0.01)[-1]]\n",
    "    return  score[0]"
   ]
  },
  {
   "cell_type": "code",
   "execution_count": 29,
   "metadata": {
    "collapsed": true
   },
   "outputs": [],
   "source": [
    "param = {\n",
    "    'max_depth': 6, \n",
    "    'eta': 0.05, \n",
    "    'gamma':1,\n",
    "    'scale_pos_weight': 1,      \n",
    "    'min_child_weight': 3, \n",
    "    'subsample': 0.8, \n",
    "    'booster': 'gbtree', \n",
    "    'colsample_bytree': 0.9,\n",
    "    'objective': 'binary:logistic',\n",
    "    'eval_metric':'auc',\n",
    "    'lambda':3\n",
    "}\n"
   ]
  },
  {
   "cell_type": "code",
   "execution_count": 30,
   "metadata": {},
   "outputs": [
    {
     "name": "stdout",
     "output_type": "stream",
     "text": [
      "[0]\tval-auc:0.936135\n",
      "Will train until val-auc hasn't improved in 10 rounds.\n",
      "[1]\tval-auc:0.95437\n",
      "[2]\tval-auc:0.955109\n",
      "[3]\tval-auc:0.957581\n",
      "[4]\tval-auc:0.960628\n",
      "[5]\tval-auc:0.961434\n",
      "[6]\tval-auc:0.961113\n",
      "[7]\tval-auc:0.961395\n",
      "[8]\tval-auc:0.962154\n",
      "[9]\tval-auc:0.962179\n",
      "[10]\tval-auc:0.962451\n",
      "[11]\tval-auc:0.962383\n",
      "[12]\tval-auc:0.963012\n",
      "[13]\tval-auc:0.962542\n",
      "[14]\tval-auc:0.962704\n",
      "[15]\tval-auc:0.962756\n",
      "[16]\tval-auc:0.963643\n",
      "[17]\tval-auc:0.963732\n",
      "[18]\tval-auc:0.963693\n",
      "[19]\tval-auc:0.96364\n",
      "[20]\tval-auc:0.963828\n",
      "[21]\tval-auc:0.964026\n",
      "[22]\tval-auc:0.964289\n",
      "[23]\tval-auc:0.964364\n",
      "[24]\tval-auc:0.965301\n",
      "[25]\tval-auc:0.965428\n",
      "[26]\tval-auc:0.965905\n",
      "[27]\tval-auc:0.966044\n",
      "[28]\tval-auc:0.966068\n",
      "[29]\tval-auc:0.966164\n",
      "[30]\tval-auc:0.966129\n",
      "[31]\tval-auc:0.966244\n",
      "[32]\tval-auc:0.966191\n",
      "[33]\tval-auc:0.966258\n",
      "[34]\tval-auc:0.966362\n",
      "[35]\tval-auc:0.966422\n",
      "[36]\tval-auc:0.966515\n",
      "[37]\tval-auc:0.96655\n",
      "[38]\tval-auc:0.966774\n",
      "[39]\tval-auc:0.966821\n",
      "[40]\tval-auc:0.966968\n",
      "[41]\tval-auc:0.967027\n",
      "[42]\tval-auc:0.967096\n",
      "[43]\tval-auc:0.967163\n",
      "[44]\tval-auc:0.96715\n",
      "[45]\tval-auc:0.967193\n",
      "[46]\tval-auc:0.967221\n",
      "[47]\tval-auc:0.967319\n",
      "[48]\tval-auc:0.967395\n",
      "[49]\tval-auc:0.967537\n",
      "[50]\tval-auc:0.967548\n",
      "[51]\tval-auc:0.96855\n",
      "[52]\tval-auc:0.968785\n",
      "[53]\tval-auc:0.968882\n",
      "[54]\tval-auc:0.970225\n",
      "[55]\tval-auc:0.970208\n",
      "[56]\tval-auc:0.970299\n",
      "[57]\tval-auc:0.970403\n",
      "[58]\tval-auc:0.97054\n",
      "[59]\tval-auc:0.970549\n",
      "[60]\tval-auc:0.970799\n",
      "[61]\tval-auc:0.97054\n",
      "[62]\tval-auc:0.970685\n",
      "[63]\tval-auc:0.970838\n",
      "[64]\tval-auc:0.971105\n",
      "[65]\tval-auc:0.971274\n",
      "[66]\tval-auc:0.971412\n",
      "[67]\tval-auc:0.972365\n",
      "[68]\tval-auc:0.972374\n",
      "[69]\tval-auc:0.97247\n",
      "[70]\tval-auc:0.972462\n",
      "[71]\tval-auc:0.972469\n",
      "[72]\tval-auc:0.972506\n",
      "[73]\tval-auc:0.972548\n",
      "[74]\tval-auc:0.972631\n",
      "[75]\tval-auc:0.972824\n",
      "[76]\tval-auc:0.97285\n",
      "[77]\tval-auc:0.97293\n",
      "[78]\tval-auc:0.972977\n",
      "[79]\tval-auc:0.973049\n",
      "[80]\tval-auc:0.973105\n",
      "[81]\tval-auc:0.973163\n",
      "[82]\tval-auc:0.973228\n",
      "[83]\tval-auc:0.973378\n",
      "[84]\tval-auc:0.973451\n",
      "[85]\tval-auc:0.97353\n",
      "[86]\tval-auc:0.973695\n",
      "[87]\tval-auc:0.973513\n",
      "[88]\tval-auc:0.973503\n",
      "[89]\tval-auc:0.973676\n",
      "[90]\tval-auc:0.973711\n",
      "[91]\tval-auc:0.973806\n",
      "[92]\tval-auc:0.973738\n",
      "[93]\tval-auc:0.973751\n",
      "[94]\tval-auc:0.973875\n",
      "[95]\tval-auc:0.974025\n",
      "[96]\tval-auc:0.974142\n",
      "[97]\tval-auc:0.974264\n",
      "[98]\tval-auc:0.974626\n",
      "[99]\tval-auc:0.974622\n",
      "[100]\tval-auc:0.974717\n",
      "[101]\tval-auc:0.974624\n",
      "[102]\tval-auc:0.974605\n",
      "[103]\tval-auc:0.974516\n",
      "[104]\tval-auc:0.974494\n",
      "[105]\tval-auc:0.974606\n",
      "[106]\tval-auc:0.974548\n",
      "[107]\tval-auc:0.974643\n",
      "[108]\tval-auc:0.97487\n",
      "[109]\tval-auc:0.974896\n",
      "[110]\tval-auc:0.974943\n",
      "[111]\tval-auc:0.975173\n",
      "[112]\tval-auc:0.975197\n",
      "[113]\tval-auc:0.975261\n",
      "[114]\tval-auc:0.975416\n",
      "[115]\tval-auc:0.975481\n",
      "[116]\tval-auc:0.975649\n",
      "[117]\tval-auc:0.975768\n",
      "[118]\tval-auc:0.975884\n",
      "[119]\tval-auc:0.975976\n",
      "[120]\tval-auc:0.976011\n",
      "[121]\tval-auc:0.976116\n",
      "[122]\tval-auc:0.976211\n",
      "[123]\tval-auc:0.976253\n",
      "[124]\tval-auc:0.976279\n",
      "[125]\tval-auc:0.976386\n",
      "[126]\tval-auc:0.976449\n",
      "[127]\tval-auc:0.976498\n",
      "[128]\tval-auc:0.976555\n",
      "[129]\tval-auc:0.976606\n",
      "[130]\tval-auc:0.97664\n",
      "[131]\tval-auc:0.976716\n",
      "[132]\tval-auc:0.976822\n",
      "[133]\tval-auc:0.976827\n",
      "[134]\tval-auc:0.976856\n",
      "[135]\tval-auc:0.976927\n",
      "[136]\tval-auc:0.976939\n",
      "[137]\tval-auc:0.976974\n",
      "[138]\tval-auc:0.977074\n",
      "[139]\tval-auc:0.977167\n",
      "[140]\tval-auc:0.97718\n",
      "[141]\tval-auc:0.977215\n",
      "[142]\tval-auc:0.977291\n",
      "[143]\tval-auc:0.977295\n",
      "[144]\tval-auc:0.977318\n",
      "[145]\tval-auc:0.977362\n",
      "[146]\tval-auc:0.977431\n",
      "[147]\tval-auc:0.977467\n",
      "[148]\tval-auc:0.977474\n",
      "[149]\tval-auc:0.977512\n",
      "[150]\tval-auc:0.977535\n",
      "[151]\tval-auc:0.977554\n",
      "[152]\tval-auc:0.97758\n",
      "[153]\tval-auc:0.977596\n",
      "[154]\tval-auc:0.977559\n",
      "[155]\tval-auc:0.977569\n",
      "[156]\tval-auc:0.977631\n",
      "[157]\tval-auc:0.977652\n",
      "[158]\tval-auc:0.977642\n",
      "[159]\tval-auc:0.977611\n",
      "[160]\tval-auc:0.97767\n",
      "[161]\tval-auc:0.977701\n",
      "[162]\tval-auc:0.977687\n",
      "[163]\tval-auc:0.977629\n",
      "[164]\tval-auc:0.977622\n",
      "[165]\tval-auc:0.977656\n",
      "[166]\tval-auc:0.97769\n",
      "[167]\tval-auc:0.977704\n",
      "[168]\tval-auc:0.977738\n",
      "[169]\tval-auc:0.977736\n",
      "[170]\tval-auc:0.977743\n",
      "[171]\tval-auc:0.977748\n",
      "[172]\tval-auc:0.977734\n",
      "[173]\tval-auc:0.97772\n",
      "[174]\tval-auc:0.977727\n",
      "[175]\tval-auc:0.977681\n",
      "[176]\tval-auc:0.97764\n",
      "[177]\tval-auc:0.97768\n",
      "[178]\tval-auc:0.977744\n",
      "[179]\tval-auc:0.97775\n",
      "[180]\tval-auc:0.977731\n",
      "[181]\tval-auc:0.977745\n",
      "[182]\tval-auc:0.977773\n",
      "[183]\tval-auc:0.97779\n",
      "[184]\tval-auc:0.977796\n",
      "[185]\tval-auc:0.977784\n",
      "[186]\tval-auc:0.977806\n",
      "[187]\tval-auc:0.977813\n",
      "[188]\tval-auc:0.977842\n",
      "[189]\tval-auc:0.977857\n",
      "[190]\tval-auc:0.9779\n",
      "[191]\tval-auc:0.977906\n",
      "[192]\tval-auc:0.977935\n",
      "[193]\tval-auc:0.977908\n",
      "[194]\tval-auc:0.97787\n",
      "[195]\tval-auc:0.977842\n",
      "[196]\tval-auc:0.97784\n",
      "[197]\tval-auc:0.977819\n",
      "[198]\tval-auc:0.977794\n",
      "[199]\tval-auc:0.977774\n"
     ]
    }
   ],
   "source": [
    "model = xgb.train(\n",
    "    param, \n",
    "    train, \n",
    "    200, \n",
    "    [(val, 'val')],\n",
    "    early_stopping_rounds=10)"
   ]
  },
  {
   "cell_type": "code",
   "execution_count": 31,
   "metadata": {},
   "outputs": [
    {
     "name": "stdout",
     "output_type": "stream",
     "text": [
      "0.538118968518\n",
      "0.421688466112\n"
     ]
    }
   ],
   "source": [
    "[199]\tval-auc:0.977774\n",
    "print(eval_func(1 - y_train, 1 - model.predict(xgb.DMatrix(X_train))))\n",
    "print(eval_func(1 - y_val, 1 - model.predict(xgb.DMatrix(X_val))))"
   ]
  },
  {
   "cell_type": "code",
   "execution_count": null,
   "metadata": {
    "collapsed": true
   },
   "outputs": [],
   "source": [
    "0.53\n",
    "0.418"
   ]
  },
  {
   "cell_type": "code",
   "execution_count": 32,
   "metadata": {
    "collapsed": true
   },
   "outputs": [],
   "source": [
    "y_pred = 1 - model.predict(test)\n",
    "result = pd.DataFrame({'id':data_test['id'].as_matrix(), 'score':y_pred})\n",
    "result.to_csv(\"submission.csv\", index=False)"
   ]
  },
  {
   "cell_type": "code",
   "execution_count": null,
   "metadata": {
    "collapsed": true
   },
   "outputs": [],
   "source": []
  }
 ],
 "metadata": {
  "kernelspec": {
   "display_name": "Python 3",
   "language": "python",
   "name": "python3"
  },
  "language_info": {
   "codemirror_mode": {
    "name": "ipython",
    "version": 3
   },
   "file_extension": ".py",
   "mimetype": "text/x-python",
   "name": "python",
   "nbconvert_exporter": "python",
   "pygments_lexer": "ipython3",
   "version": "3.6.4"
  }
 },
 "nbformat": 4,
 "nbformat_minor": 2
}
