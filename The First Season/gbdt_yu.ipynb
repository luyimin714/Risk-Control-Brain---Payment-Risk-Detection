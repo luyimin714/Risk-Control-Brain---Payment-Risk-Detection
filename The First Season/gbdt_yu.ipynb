{
 "cells": [
  {
   "cell_type": "code",
   "execution_count": 14,
   "metadata": {
    "collapsed": true
   },
   "outputs": [],
   "source": [
    "import gc\n",
    "import pandas as pd\n",
    "import numpy as np\n",
    "import os\n",
    "import lightgbm as lgb\n",
    "from sklearn import metrics\n",
    "from sklearn.ensemble import RandomForestClassifier\n",
    "from sklearn.ensemble import GradientBoostingClassifier\n",
    "from sklearn.model_selection import train_test_split\n",
    "from sklearn.metrics import accuracy_score"
   ]
  },
  {
   "cell_type": "code",
   "execution_count": 15,
   "metadata": {
    "collapsed": true
   },
   "outputs": [],
   "source": [
    "from sklearn.metrics import roc_curve \n",
    "def score(y,pred): \n",
    "    fpr, tpr, thresholds = roc_curve(y, pred, pos_label=1) \n",
    "    score=0.4*tpr[np.where(fpr>=0.001)[0][0]]+0.3*tpr[np.where(fpr>=0.005)[0][0]]+0.3*tpr[np.where(fpr>=0.01)[0][0]] \n",
    "    return score \n",
    "# from datetime import date\n",
    "# def getWeekday(row):\n",
    "#     if row == 'null':\n",
    "#         return row\n",
    "#     else:\n",
    "#         return date(int(row[0:4]), int(row[4:6]), int(row[6:8])).weekday() + 1"
   ]
  },
  {
   "cell_type": "code",
   "execution_count": 16,
   "metadata": {
    "collapsed": true
   },
   "outputs": [],
   "source": [
    "####################训练集#######################\n",
    "DATA_PATH = \"../\"\n",
    "csv_path = os.path.join(DATA_PATH, \"atec_anti_fraud_train.csv\")\n",
    "data = pd.read_csv(csv_path)"
   ]
  },
  {
   "cell_type": "code",
   "execution_count": 17,
   "metadata": {
    "collapsed": true
   },
   "outputs": [],
   "source": [
    "data.loc[data['label'] == -1, 'label'] = 1\n",
    "data.loc[data['label'] == 1, 'label'] = 2\n",
    "data.loc[data['label'] == 0, 'label'] = 1\n",
    "data.loc[data['label'] == 2, 'label'] = 0"
   ]
  },
  {
   "cell_type": "code",
   "execution_count": 18,
   "metadata": {
    "collapsed": true
   },
   "outputs": [],
   "source": [
    "####################测试集#######################\n",
    "csv_path = os.path.join(DATA_PATH, \"atec_anti_fraud_test_b.csv\")\n",
    "data_test = pd.read_csv(csv_path)"
   ]
  },
  {
   "cell_type": "code",
   "execution_count": 19,
   "metadata": {
    "collapsed": true
   },
   "outputs": [],
   "source": [
    "data.fillna(0, inplace=True)\n",
    "data_test.fillna(0, inplace=True)"
   ]
  },
  {
   "cell_type": "code",
   "execution_count": 20,
   "metadata": {
    "scrolled": true
   },
   "outputs": [
    {
     "name": "stdout",
     "output_type": "stream",
     "text": [
      "(994731, 300)\n",
      "(749690, 300)\n",
      "(245041, 300)\n"
     ]
    }
   ],
   "source": [
    "data_train = data[data['date'] <= 20171021]\n",
    "data_val = data[data['date'] > 20171021]\n",
    "\n",
    "print(data.shape)\n",
    "print(data_train.shape)\n",
    "print(data_val.shape)"
   ]
  },
  {
   "cell_type": "code",
   "execution_count": 21,
   "metadata": {
    "collapsed": true
   },
   "outputs": [],
   "source": [
    "X = data.loc[:,'f1':].as_matrix()\n",
    "y = data.loc[:,'label'].as_matrix()\n",
    "\n",
    "X_train = data_train.loc[:,'f1':].as_matrix()\n",
    "y_train = data_train.loc[:,'label'].as_matrix()\n",
    "\n",
    "X_val = data_val.loc[:,'f1':].as_matrix()\n",
    "y_val = data_val.loc[:,'label'].as_matrix()\n",
    "\n",
    "X_test = data_test.loc[:,'f1':].as_matrix()"
   ]
  },
  {
   "cell_type": "code",
   "execution_count": 22,
   "metadata": {},
   "outputs": [
    {
     "name": "stdout",
     "output_type": "stream",
     "text": [
      "(994731, 297)\n",
      "(994731,)\n",
      "(749690, 297)\n",
      "(749690,)\n",
      "(245041, 297)\n",
      "(245041,)\n",
      "(500538, 297)\n"
     ]
    }
   ],
   "source": [
    "#X_train, X_val, y_train, y_val = train_test_split(X, y, test_size=0.2, random_state=0)\n",
    "print(X.shape)\n",
    "print(y.shape)\n",
    "print(X_train.shape)\n",
    "print(y_train.shape)\n",
    "print(X_val.shape)\n",
    "print(y_val.shape)\n",
    "print(X_test.shape)"
   ]
  },
  {
   "cell_type": "code",
   "execution_count": 23,
   "metadata": {},
   "outputs": [
    {
     "data": {
      "text/plain": [
       "123"
      ]
     },
     "execution_count": 23,
     "metadata": {},
     "output_type": "execute_result"
    }
   ],
   "source": [
    "del data, data_train, data_val\n",
    "gc.collect()"
   ]
  },
  {
   "cell_type": "code",
   "execution_count": 24,
   "metadata": {
    "collapsed": true
   },
   "outputs": [],
   "source": [
    "def eval_func(y_pred, y_true):\n",
    "    fpr, tpr, thresholds = metrics.roc_curve(y_pred, y_true, pos_label=1)\n",
    "    score = 0.4 * tpr[np.argwhere(fpr < 0.001)[-1]] + 0.3 * tpr[np.argwhere(\n",
    "        fpr < 0.005)[-1]] + 0.3 * tpr[np.argwhere(fpr < 0.01)[-1]]\n",
    "    return 'score', score, True\n",
    "\n",
    "# def eval_func(y_true, y_pred):\n",
    "#     y_pred = y_pred.get_label()\n",
    "#     fpr, tpr, thresholds = metrics.roc_curve(y_pred, y_true, pos_label=1)\n",
    "#     score = 0.4 * tpr[np.argwhere(fpr < 0.001)[-1]] + 0.3 * tpr[np.argwhere(\n",
    "#         fpr < 0.005)[-1]] + 0.3 * tpr[np.argwhere(fpr < 0.01)[-1]]\n",
    "#     return 'score', score, True"
   ]
  },
  {
   "cell_type": "code",
   "execution_count": 25,
   "metadata": {
    "scrolled": true
   },
   "outputs": [
    {
     "name": "stdout",
     "output_type": "stream",
     "text": [
      "      Iter       Train Loss      OOB Improve   Remaining Time \n",
      "         1           0.1216           0.0517           30.32m\n",
      "         2           0.1150           0.0064           28.73m\n",
      "         3           0.1096           0.0051           27.53m\n",
      "         4           0.1052           0.0036           26.27m\n",
      "         5           0.1022           0.0035           24.71m\n",
      "         6           0.0989           0.0029           23.76m\n",
      "         7           0.0964           0.0024           22.65m\n",
      "         8           0.0942           0.0020           21.74m\n",
      "         9           0.0921           0.0018           20.55m\n",
      "        10           0.0905           0.0016           19.56m\n",
      "        20           0.0808           0.0004            9.46m\n",
      "        30           0.0756           0.0002            0.00s\n"
     ]
    },
    {
     "data": {
      "text/plain": [
       "GradientBoostingClassifier(criterion='friedman_mse', init=None,\n",
       "              learning_rate=0.1, loss='deviance', max_depth=6,\n",
       "              max_features=0.9, max_leaf_nodes=50,\n",
       "              min_impurity_decrease=0.0, min_impurity_split=None,\n",
       "              min_samples_leaf=1, min_samples_split=2,\n",
       "              min_weight_fraction_leaf=0.0, n_estimators=30,\n",
       "              presort='auto', random_state=0, subsample=0.8, verbose=1,\n",
       "              warm_start=False)"
      ]
     },
     "execution_count": 25,
     "metadata": {},
     "output_type": "execute_result"
    }
   ],
   "source": [
    "clf = GradientBoostingClassifier(\n",
    "    n_estimators=30,\n",
    "    subsample=0.8,\n",
    "    max_depth=6,\n",
    "    max_leaf_nodes=50,\n",
    "    max_features=0.9,\n",
    "    learning_rate=0.1,\n",
    "    random_state=0,\n",
    "    verbose=1\n",
    ")\n",
    "clf.fit(X, y)"
   ]
  },
  {
   "cell_type": "code",
   "execution_count": 26,
   "metadata": {},
   "outputs": [
    {
     "data": {
      "text/plain": [
       "0.46188638926811898"
      ]
     },
     "execution_count": 26,
     "metadata": {},
     "output_type": "execute_result"
    }
   ],
   "source": [
    "score(1-y, clf.predict_proba(X)[:, 0])"
   ]
  },
  {
   "cell_type": "code",
   "execution_count": 32,
   "metadata": {
    "collapsed": true
   },
   "outputs": [],
   "source": [
    "y_val_pred = clf.predict_proba(X_val)[:,1]"
   ]
  },
  {
   "cell_type": "code",
   "execution_count": 27,
   "metadata": {
    "collapsed": true
   },
   "outputs": [],
   "source": [
    "y_pred = clf.predict_proba(X_test)[:,0]\n",
    "result = pd.DataFrame({'id':data_test['id'].as_matrix(), 'score':y_pred})\n",
    "result.to_csv(\"submission.csv\", index=False)"
   ]
  },
  {
   "cell_type": "code",
   "execution_count": null,
   "metadata": {
    "collapsed": true
   },
   "outputs": [],
   "source": []
  }
 ],
 "metadata": {
  "kernelspec": {
   "display_name": "Python 3",
   "language": "python",
   "name": "python3"
  },
  "language_info": {
   "codemirror_mode": {
    "name": "ipython",
    "version": 3
   },
   "file_extension": ".py",
   "mimetype": "text/x-python",
   "name": "python",
   "nbconvert_exporter": "python",
   "pygments_lexer": "ipython3",
   "version": "3.6.4"
  }
 },
 "nbformat": 4,
 "nbformat_minor": 2
}
